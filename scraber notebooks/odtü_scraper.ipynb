{
 "cells": [
  {
   "cell_type": "code",
   "execution_count": 1,
   "id": "9335b226",
   "metadata": {},
   "outputs": [],
   "source": [
    "from bs4 import BeautifulSoup\n",
    "import requests\n",
    "from datetime import datetime"
   ]
  },
  {
   "cell_type": "code",
   "execution_count": 2,
   "id": "b3d235fa",
   "metadata": {},
   "outputs": [],
   "source": [
    "def find_events(link):\n",
    "    \n",
    "    pageraw=requests.get(link).text\n",
    "    page=BeautifulSoup(pageraw,\"lxml\")\n",
    "\n",
    "    container=page.find(\"div\",class_=\"view-content\")\n",
    "    if container!=None:\n",
    "        events=container.findAll(\"span\",class_=\"field-content\")\n",
    "        return events\n",
    "    else:\n",
    "        return container ## container is none"
   ]
  },
  {
   "cell_type": "code",
   "execution_count": 3,
   "id": "bc236644",
   "metadata": {},
   "outputs": [],
   "source": [
    "def return_links(events):\n",
    "    links=[]\n",
    "    for event in events:\n",
    "        relative_link=event.a[\"href\"]\n",
    "        abs_link=\"https://kkm.metu.edu.tr\"+relative_link\n",
    "        links.append(abs_link)\n",
    "    return links"
   ]
  },
  {
   "cell_type": "code",
   "execution_count": 4,
   "id": "08e469e5",
   "metadata": {},
   "outputs": [],
   "source": [
    "def get_event_details(event_link):\n",
    "    event_page_raw=requests.get(event_link).text\n",
    "    event_page=BeautifulSoup(event_page_raw,\"lxml\")\n",
    "\n",
    "    heading=event_page.find(\"h4\",class_=\"page-title\").text\n",
    "    main_content=event_page.find(id=\"maincontent\")\n",
    "    images=main_content.find_all(\"img\")\n",
    "    img_links=[]\n",
    "    for image in images:\n",
    "        img_links.append(image[\"src\"])\n",
    "\n",
    "    spans=main_content.findAll(\"span\")\n",
    "\n",
    "    dates=spans[0].text\n",
    "    if \"·\" in dates:\n",
    "        dates=dates.replace(\"\\n\",\"\").replace(\" \",\"\").split(\"·\")\n",
    "\n",
    "        start=dates[0][0:10]+\" \"+dates[0][-5::]\n",
    "        end=dates[1][0:10]+\" \"+dates[1][-5::]\n",
    "    else:\n",
    "        start=end=dates\n",
    "\n",
    "    start=datetime.strptime(start,\"%d/%m/%Y %H:%M\")\n",
    "    end=datetime.strptime(end,\"%d/%m/%Y %H:%M\")\n",
    "\n",
    "    place=spans[1].text+\" \"+spans[2].text\n",
    "\n",
    "    return {\n",
    "        \"name\":heading,\n",
    "        \"description\":\"\",\n",
    "        \"link\":event_link,\n",
    "        \"start_date\":start,\n",
    "        \"end_date\":end,\n",
    "        \"media\":images,\n",
    "        \"qr_code\":{},\n",
    "        \"verification_link\":\"\",\n",
    "        \"category\":\"\",\n",
    "        \"place\":place,\n",
    "     }"
   ]
  },
  {
   "cell_type": "code",
   "execution_count": 5,
   "id": "810dc46c",
   "metadata": {},
   "outputs": [],
   "source": [
    "link=\"https://kkm.metu.edu.tr/calendar-node-field-etkinlik-tarihi/year/{}?page=0\"\n",
    "\n",
    "event_details=[]\n",
    "this_year=datetime.now().year\n",
    "\n",
    "this_year_events=find_events(link.format(this_year))\n",
    "this_year_links=[]\n",
    "if this_year_events!=None:\n",
    "    this_year_links=return_links(this_year_events)"
   ]
  },
  {
   "cell_type": "code",
   "execution_count": 6,
   "id": "f89e0d49",
   "metadata": {},
   "outputs": [
    {
     "name": "stdout",
     "output_type": "stream",
     "text": [
      "https://kkm.metu.edu.tr/etkinlik/egitim-0\n",
      "https://kkm.metu.edu.tr/etkinlik/genel-kurul-toplantisi\n",
      "https://kkm.metu.edu.tr/etkinlik/egitim-2\n",
      "https://kkm.metu.edu.tr/etkinlik/egitim-1\n",
      "https://kkm.metu.edu.tr/etkinlik/turkiye-fotovoltaik-teknolojileri-flatformu\n",
      "https://kkm.metu.edu.tr/etkinlik/tiyatro-gosterisi\n",
      "https://kkm.metu.edu.tr/etkinlik/agep-8\n",
      "https://kkm.metu.edu.tr/etkinlik/19-uluslararasi-odtu-robot-gunleri-robot-toplulugu\n",
      "https://kkm.metu.edu.tr/etkinlik/turk-egitim-vakfi-etkinligi\n",
      "https://kkm.metu.edu.tr/etkinlik/odtu-iklim-degisikligi-ve-surdurulebilir-kalkinma-uygulama-ve-arastirma-merkezi-1-calistayi\n"
     ]
    },
    {
     "ename": "ValueError",
     "evalue": "time data ' 05/04/2023 13:15\\n' does not match format '%d/%m/%Y %H:%M'",
     "output_type": "error",
     "traceback": [
      "\u001b[1;31m---------------------------------------------------------------------------\u001b[0m",
      "\u001b[1;31mValueError\u001b[0m                                Traceback (most recent call last)",
      "Cell \u001b[1;32mIn[6], line 4\u001b[0m\n\u001b[0;32m      1\u001b[0m \u001b[39mfor\u001b[39;00m event_link \u001b[39min\u001b[39;00m this_year_links:\n\u001b[0;32m      2\u001b[0m     \u001b[39mprint\u001b[39m(event_link)\n\u001b[0;32m      3\u001b[0m     event_details\u001b[39m.\u001b[39mappend(\n\u001b[1;32m----> 4\u001b[0m         get_event_details(event_link)\n\u001b[0;32m      5\u001b[0m     )\n",
      "Cell \u001b[1;32mIn[4], line 23\u001b[0m, in \u001b[0;36mget_event_details\u001b[1;34m(event_link)\u001b[0m\n\u001b[0;32m     20\u001b[0m \u001b[39melse\u001b[39;00m:\n\u001b[0;32m     21\u001b[0m     start\u001b[39m=\u001b[39mend\u001b[39m=\u001b[39mdates\n\u001b[1;32m---> 23\u001b[0m start\u001b[39m=\u001b[39mdatetime\u001b[39m.\u001b[39;49mstrptime(start,\u001b[39m\"\u001b[39;49m\u001b[39m%d\u001b[39;49;00m\u001b[39m/\u001b[39;49m\u001b[39m%\u001b[39;49m\u001b[39mm/\u001b[39;49m\u001b[39m%\u001b[39;49m\u001b[39mY \u001b[39;49m\u001b[39m%\u001b[39;49m\u001b[39mH:\u001b[39;49m\u001b[39m%\u001b[39;49m\u001b[39mM\u001b[39;49m\u001b[39m\"\u001b[39;49m)\n\u001b[0;32m     24\u001b[0m end\u001b[39m=\u001b[39mdatetime\u001b[39m.\u001b[39mstrptime(end,\u001b[39m\"\u001b[39m\u001b[39m%d\u001b[39;00m\u001b[39m/\u001b[39m\u001b[39m%\u001b[39m\u001b[39mm/\u001b[39m\u001b[39m%\u001b[39m\u001b[39mY \u001b[39m\u001b[39m%\u001b[39m\u001b[39mH:\u001b[39m\u001b[39m%\u001b[39m\u001b[39mM\u001b[39m\u001b[39m\"\u001b[39m)\n\u001b[0;32m     26\u001b[0m place\u001b[39m=\u001b[39mspans[\u001b[39m1\u001b[39m]\u001b[39m.\u001b[39mtext\u001b[39m+\u001b[39m\u001b[39m\"\u001b[39m\u001b[39m \u001b[39m\u001b[39m\"\u001b[39m\u001b[39m+\u001b[39mspans[\u001b[39m2\u001b[39m]\u001b[39m.\u001b[39mtext\n",
      "File \u001b[1;32mc:\\Users\\eren\\AppData\\Local\\Programs\\Python\\Python311\\Lib\\_strptime.py:568\u001b[0m, in \u001b[0;36m_strptime_datetime\u001b[1;34m(cls, data_string, format)\u001b[0m\n\u001b[0;32m    565\u001b[0m \u001b[39mdef\u001b[39;00m \u001b[39m_strptime_datetime\u001b[39m(\u001b[39mcls\u001b[39m, data_string, \u001b[39mformat\u001b[39m\u001b[39m=\u001b[39m\u001b[39m\"\u001b[39m\u001b[39m%a\u001b[39;00m\u001b[39m \u001b[39m\u001b[39m%\u001b[39m\u001b[39mb \u001b[39m\u001b[39m%d\u001b[39;00m\u001b[39m \u001b[39m\u001b[39m%\u001b[39m\u001b[39mH:\u001b[39m\u001b[39m%\u001b[39m\u001b[39mM:\u001b[39m\u001b[39m%\u001b[39m\u001b[39mS \u001b[39m\u001b[39m%\u001b[39m\u001b[39mY\u001b[39m\u001b[39m\"\u001b[39m):\n\u001b[0;32m    566\u001b[0m \u001b[39m    \u001b[39m\u001b[39m\"\"\"Return a class cls instance based on the input string and the\u001b[39;00m\n\u001b[0;32m    567\u001b[0m \u001b[39m    format string.\"\"\"\u001b[39;00m\n\u001b[1;32m--> 568\u001b[0m     tt, fraction, gmtoff_fraction \u001b[39m=\u001b[39m _strptime(data_string, \u001b[39mformat\u001b[39;49m)\n\u001b[0;32m    569\u001b[0m     tzname, gmtoff \u001b[39m=\u001b[39m tt[\u001b[39m-\u001b[39m\u001b[39m2\u001b[39m:]\n\u001b[0;32m    570\u001b[0m     args \u001b[39m=\u001b[39m tt[:\u001b[39m6\u001b[39m] \u001b[39m+\u001b[39m (fraction,)\n",
      "File \u001b[1;32mc:\\Users\\eren\\AppData\\Local\\Programs\\Python\\Python311\\Lib\\_strptime.py:349\u001b[0m, in \u001b[0;36m_strptime\u001b[1;34m(data_string, format)\u001b[0m\n\u001b[0;32m    347\u001b[0m found \u001b[39m=\u001b[39m format_regex\u001b[39m.\u001b[39mmatch(data_string)\n\u001b[0;32m    348\u001b[0m \u001b[39mif\u001b[39;00m \u001b[39mnot\u001b[39;00m found:\n\u001b[1;32m--> 349\u001b[0m     \u001b[39mraise\u001b[39;00m \u001b[39mValueError\u001b[39;00m(\u001b[39m\"\u001b[39m\u001b[39mtime data \u001b[39m\u001b[39m%r\u001b[39;00m\u001b[39m does not match format \u001b[39m\u001b[39m%r\u001b[39;00m\u001b[39m\"\u001b[39m \u001b[39m%\u001b[39m\n\u001b[0;32m    350\u001b[0m                      (data_string, \u001b[39mformat\u001b[39m))\n\u001b[0;32m    351\u001b[0m \u001b[39mif\u001b[39;00m \u001b[39mlen\u001b[39m(data_string) \u001b[39m!=\u001b[39m found\u001b[39m.\u001b[39mend():\n\u001b[0;32m    352\u001b[0m     \u001b[39mraise\u001b[39;00m \u001b[39mValueError\u001b[39;00m(\u001b[39m\"\u001b[39m\u001b[39munconverted data remains: \u001b[39m\u001b[39m%s\u001b[39;00m\u001b[39m\"\u001b[39m \u001b[39m%\u001b[39m\n\u001b[0;32m    353\u001b[0m                       data_string[found\u001b[39m.\u001b[39mend():])\n",
      "\u001b[1;31mValueError\u001b[0m: time data ' 05/04/2023 13:15\\n' does not match format '%d/%m/%Y %H:%M'"
     ]
    }
   ],
   "source": [
    "for event_link in this_year_links:\n",
    "    print(event_link)\n",
    "    event_details.append(\n",
    "        get_event_details(event_link)\n",
    "    )"
   ]
  },
  {
   "cell_type": "code",
   "execution_count": null,
   "id": "3c96c9c4",
   "metadata": {},
   "outputs": [],
   "source": [
    "next_year_events=find_events(link.format(this_year+1))\n",
    "if next_year_events!=None:\n",
    "    next_year_events=return_links(next_year_events)\n",
    "    for event_link in next_year_events:\n",
    "        event_details.append(\n",
    "            get_event_details(event_link)\n",
    "        )"
   ]
  },
  {
   "cell_type": "code",
   "execution_count": null,
   "id": "b629161e",
   "metadata": {},
   "outputs": [],
   "source": [
    "for det in event_details:\n",
    "    print(det)"
   ]
  }
 ],
 "metadata": {
  "kernelspec": {
   "display_name": "Python 3 (ipykernel)",
   "language": "python",
   "name": "python3"
  },
  "language_info": {
   "codemirror_mode": {
    "name": "ipython",
    "version": 3
   },
   "file_extension": ".py",
   "mimetype": "text/x-python",
   "name": "python",
   "nbconvert_exporter": "python",
   "pygments_lexer": "ipython3",
   "version": "3.11.1"
  }
 },
 "nbformat": 4,
 "nbformat_minor": 5
}
