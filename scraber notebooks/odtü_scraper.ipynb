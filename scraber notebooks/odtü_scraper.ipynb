{
 "cells": [
  {
   "cell_type": "code",
   "execution_count": 1,
   "id": "9335b226",
   "metadata": {},
   "outputs": [],
   "source": [
    "from bs4 import BeautifulSoup\n",
    "import requests\n",
    "from datetime import datetime"
   ]
  },
  {
   "cell_type": "code",
   "execution_count": 2,
   "id": "b3d235fa",
   "metadata": {},
   "outputs": [],
   "source": [
    "def find_events(link):\n",
    "    \n",
    "    pageraw=requests.get(link).text\n",
    "    page=BeautifulSoup(pageraw,\"lxml\")\n",
    "\n",
    "    container=page.find(\"div\",class_=\"view-content\")\n",
    "    if container!=None:\n",
    "        events=container.findAll(\"span\",class_=\"field-content\")\n",
    "        return events\n",
    "    else:\n",
    "        return container ## container is none"
   ]
  },
  {
   "cell_type": "code",
   "execution_count": 3,
   "id": "bc236644",
   "metadata": {},
   "outputs": [],
   "source": [
    "def return_links(events):\n",
    "    links=[]\n",
    "    for event in events:\n",
    "        relative_link=event.a[\"href\"]\n",
    "        abs_link=\"https://kkm.metu.edu.tr\"+relative_link\n",
    "        links.append(abs_link)\n",
    "    return links"
   ]
  },
  {
   "cell_type": "code",
   "execution_count": 4,
   "id": "08e469e5",
   "metadata": {},
   "outputs": [],
   "source": [
    "def get_event_details(event_link):\n",
    "    event_page_raw=requests.get(event_link).text\n",
    "    event_page=BeautifulSoup(event_page_raw,\"lxml\")\n",
    "\n",
    "    heading=event_page.find(\"h4\",class_=\"page-title\").text\n",
    "    main_content=event_page.find(id=\"maincontent\")\n",
    "    images=main_content.find_all(\"img\")\n",
    "    img_links=[]\n",
    "    for image in images:\n",
    "        img_links.append(image[\"src\"])\n",
    "\n",
    "    spans=main_content.findAll(\"span\")\n",
    "\n",
    "    dates=spans[0].text\n",
    "    if \"·\" in dates:\n",
    "        dates=dates.replace(\"\\n\",\"\").replace(\" \",\"\").split(\"·\")\n",
    "\n",
    "        start=dates[0][0:10]+\" \"+dates[0][-5::]\n",
    "        end=dates[1][0:10]+\" \"+dates[1][-5::]\n",
    "    else:\n",
    "        start=end=dates\n",
    "\n",
    "    start=datetime.strptime(start,\"%d/%m/%Y %H:%M\")\n",
    "    end=datetime.strptime(end,\"%d/%m/%Y %H:%M\")\n",
    "\n",
    "    place=spans[1].text+\" \"+spans[2].text\n",
    "\n",
    "    return {\n",
    "        \"name\":heading,\n",
    "        \"description\":\"\",\n",
    "        \"link\":event_link,\n",
    "        \"start_date\":start,\n",
    "        \"end_date\":end,\n",
    "        \"media\":images,\n",
    "        \"qr_code\":{},\n",
    "        \"verification_link\":\"\",\n",
    "        \"category\":\"\",\n",
    "        \"place\":place,\n",
    "     }"
   ]
  },
  {
   "cell_type": "code",
   "execution_count": null,
   "id": "810dc46c",
   "metadata": {},
   "outputs": [],
   "source": [
    "link=\"https://kkm.metu.edu.tr/calendar-node-field-etkinlik-tarihi/year/{}?page=0\"\n",
    "\n",
    "event_details=[]\n",
    "this_year=datetime.now().year\n",
    "\n",
    "this_year_events=find_events(link.format(this_year))\n",
    "this_year_links=[]\n",
    "if this_year_events!=None:\n",
    "    this_year_links=return_links(this_year_events)"
   ]
  },
  {
   "cell_type": "code",
   "execution_count": null,
   "id": "f89e0d49",
   "metadata": {},
   "outputs": [],
   "source": [
    "for event_link in this_year_links:\n",
    "    print(event_link)\n",
    "    event_details.append(\n",
    "        get_event_details(event_link)\n",
    "    )"
   ]
  },
  {
   "cell_type": "code",
   "execution_count": null,
   "id": "3c96c9c4",
   "metadata": {},
   "outputs": [],
   "source": [
    "next_year_events=find_events(link.format(this_year+1))\n",
    "if next_year_events!=None:\n",
    "    next_year_events=return_links(next_year_events)\n",
    "    for event_link in next_year_events:\n",
    "        event_details.append(\n",
    "            get_event_details(event_link)\n",
    "        )"
   ]
  },
  {
   "cell_type": "code",
   "execution_count": null,
   "id": "b629161e",
   "metadata": {},
   "outputs": [],
   "source": [
    "for det in event_details:\n",
    "    print(det)"
   ]
  }
 ],
 "metadata": {
  "kernelspec": {
   "display_name": "Python 3 (ipykernel)",
   "language": "python",
   "name": "python3"
  },
  "language_info": {
   "codemirror_mode": {
    "name": "ipython",
    "version": 3
   },
   "file_extension": ".py",
   "mimetype": "text/x-python",
   "name": "python",
   "nbconvert_exporter": "python",
   "pygments_lexer": "ipython3",
   "version": "3.11.1"
  }
 },
 "nbformat": 4,
 "nbformat_minor": 5
}
