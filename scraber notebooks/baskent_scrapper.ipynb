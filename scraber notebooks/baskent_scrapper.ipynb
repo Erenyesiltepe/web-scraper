{
 "cells": [
  {
   "cell_type": "code",
   "execution_count": 4,
   "metadata": {},
   "outputs": [],
   "source": [
    "from bs4 import BeautifulSoup\n",
    "from selenium import webdriver\n",
    "import requests"
   ]
  },
  {
   "cell_type": "code",
   "execution_count": 5,
   "metadata": {},
   "outputs": [],
   "source": [
    "def getPage(page_num):\n",
    "    link=\"https://www.baskent.edu.tr/tr/etkinlikler?sayfa={}\"\n",
    "    page_raw=requests.get(link.format(page_num))\n",
    "    print(page_raw.encoding)\n",
    "    page=BeautifulSoup(page_raw.content.decode(\"UTF-8\"),\"lxml\")\n",
    "    return page"
   ]
  },
  {
   "cell_type": "code",
   "execution_count": 6,
   "metadata": {},
   "outputs": [],
   "source": [
    "def getDetails(event):\n",
    "    image=event.img[\"src\"]\n",
    "    month=event.find(\"h4\",class_=\"month\").text\n",
    "    day=event.find(\"h3\",class_=\"day\").text\n",
    "    container=event.find(\"div\",class_=\"blog-thumb-desc category-list event-list\")\n",
    "    category=container.h4.text\n",
    "    heading=container.h5.text\n",
    "    detail=event.a[\"href\"]\n",
    "    return {\n",
    "        \"image\":image,\n",
    "        \"date\":month+day,\n",
    "        \"category\":category,\n",
    "        \"heading\":heading,\n",
    "        \"detail\":detail\n",
    "    }"
   ]
  },
  {
   "cell_type": "code",
   "execution_count": null,
   "metadata": {},
   "outputs": [],
   "source": [
    "page=getPage(1)\n",
    "print(page)\n",
    "page_nums=page.find(\"ul\",class_=\"pagination color-red\").findAll(\"li\")\n",
    "page_count=int(page_nums[-4].text)\n",
    "print(page_count)\n",
    "\n"
   ]
  },
  {
   "cell_type": "code",
   "execution_count": 9,
   "metadata": {},
   "outputs": [
    {
     "name": "stdout",
     "output_type": "stream",
     "text": [
      "{'image': 'https://www.baskent.edu.tr/upload/images/etkinlikler/econtr-thumbnail.png', 'date': 'EYLÜL07-09', 'category': 'Kongre', 'heading': 'EconTR 2023', 'detail': 'https://2023.econtr.org/'}\n",
      "{'image': 'https://www.baskent.edu.tr/upload/images/etkinlikler/ulibtk-thumbnail.png', 'date': 'EYLÜL06-08', 'category': 'Kongre', 'heading': 'Uluslararası Katılımlı 24. Isı Bilimi ve Tekniği Kongresi', 'detail': 'https://www.baskent.edu.tr/tr/etkinlikler/kongre/uluslararasi-katilimli-24-isi-bilimi-ve-teknigi-kongresi/601'}\n",
      "{'image': 'https://www.baskent.edu.tr/upload/images/etkinlikler/30-agustos-thumbnail.png', 'date': 'AĞUSTOS30', 'category': 'Etkinlik', 'heading': '30 Ağustos Zafer Bayramı', 'detail': 'https://atamer.baskent.edu.tr/kw/duyuru_ayrinti.php?did=160153'}\n",
      "{'image': 'https://www.baskent.edu.tr/upload/images/etkinlikler/btk-akademi-genclik-kampi-2023-thumbnail.png', 'date': 'AĞUSTOS07-11', 'category': 'Etkinlik', 'heading': 'BTK Akademi Gençlik Kampı', 'detail': 'https://www.btkakademi.gov.tr/portal/public/ZonguldakSiberGuvenlikveJavaKamp2023'}\n",
      "{'image': 'https://www.baskent.edu.tr/upload/images/etkinlikler/18-th-congress-of-the-mesot-2023-thumbnail.png', 'date': 'MAYIS24-26', 'category': 'Kongre', 'heading': '18th Congress of the MESOT 2023', 'detail': 'https://www.mesot2023.com/'}\n",
      "{'image': 'https://www.baskent.edu.tr/upload/images/etkinlikler/afis-defile-2023-thumbnail.png', 'date': 'MAYIS18', 'category': 'Etkinlik', 'heading': 'Panora Avm 19 Mayıs Etkinlikleri Öğrenci Tasarımları Defilesi', 'detail': 'https://gsf.baskent.edu.tr/kw/duyuru_ayrinti.php?did=151752'}\n",
      "{'image': 'https://www.baskent.edu.tr/upload/images/etkinlikler/tiyatro-2023-thumbnail.png', 'date': 'MAYIS17-18', 'category': 'Etkinlik', 'heading': 'Saatleri Ayarlama Enstitüsü', 'detail': 'https://www.baskent.edu.tr/tr/etkinlikler/etkinlik/saatleri-ayarlama-enstitusu/625'}\n",
      "{'image': 'https://www.baskent.edu.tr/upload/images/etkinlikler/genclik-kamplari-2023-thumbnail.png', 'date': '15 MAY -16 HAZ\\xa0\\xa0\\xa0', 'category': 'Etkinlik', 'heading': 'Ulusal Yaz Dönemi Gençlik Kampları', 'detail': 'https://www.baskent.edu.tr/tr/etkinlikler/etkinlik/ulusal-yaz-donemi-genclik-kamplari/624'}\n"
     ]
    }
   ],
   "source": [
    "event_details=[]\n",
    "events=page.findAll(\"div\",class_=\"cbp-item\")\n",
    "for event in events:\n",
    "    detail=getDetails(event)\n",
    "    event_details.append(detail)\n",
    "    print(detail)"
   ]
  },
  {
   "cell_type": "code",
   "execution_count": 10,
   "metadata": {},
   "outputs": [
    {
     "name": "stdout",
     "output_type": "stream",
     "text": [
      "ISO-8859-1\n",
      "{'image': 'https://www.baskent.edu.tr/upload/images/etkinlikler/herkes-icin-iletisim10052023.png', 'date': 'MAYIS12', 'category': 'Seminer', 'heading': 'Herkes İçin İletişim Semineri', 'detail': 'https://www.baskent.edu.tr/tr/etkinlikler/seminer/herkes-icin-iletisim-semineri/627'}\n",
      "{'image': 'https://www.baskent.edu.tr/upload/images/etkinlikler/6.yesil-kampus-etkinlikleri-thumbnail.jpg', 'date': 'MAYIS10', 'category': 'Etkinlik', 'heading': '6. Yeşil Kampus Etkinlikleri Kamu Spotu Yarışması', 'detail': 'https://bucem.baskent.edu.tr/kw/duyuru_ayrinti.php?did=143823'}\n",
      "{'image': 'https://www.baskent.edu.tr/upload/images/etkinlikler/10-mayis-yesil-kampus-thumbnail.png', 'date': 'MAYIS10', 'category': 'Etkinlik', 'heading': '6. Yeşil Kampüs Etkinlikleri Kamu Spotu Yarışması Ödül Töreni', 'detail': 'https://bucem.baskent.edu.tr/kw/index.php?did=149971&dil=TR'}\n",
      "{'image': 'https://www.baskent.edu.tr/upload/images/etkinlikler/pilates-core-work-out-10-mayis-thumbnail.png', 'date': 'MAYIS10-22', 'category': 'Kurs', 'heading': 'Pilates - Core Work Out Kursları', 'detail': 'https://sporm.baskent.edu.tr/kw/duyuru_ayrinti.php?did=150889'}\n",
      "{'image': 'https://www.baskent.edu.tr/upload/images/etkinlikler/single-cell-symposium-2023-thumbnail.jpg', 'date': 'MAYIS03-04', 'category': 'Sempozyum', 'heading': 'The International Symposium on Single-Cell Transcriptomics', 'detail': 'https://www.baskent.edu.tr/tr/etkinlikler/sempozyum/the-international-symposium-on-single-cell-transcriptomics/622'}\n",
      "{'image': 'https://www.baskent.edu.tr/upload/images/etkinlikler/et_egyon-kong..jpg', 'date': 'NİSAN28-30', 'category': 'Kongre', 'heading': '16. Uluslararası Eğitim Yönetimi Kongresi', 'detail': 'http://eyedder.org.tr/tr/eyedder/'}\n",
      "{'image': 'https://www.baskent.edu.tr/upload/images/etkinlikler/sanattasarim-thumbnail2023.jpg', 'date': 'NİSAN27-28', 'category': 'Sempozyum', 'heading': '5. Uluslararası Sanat ve Tasarım Eğitimi Sempozyumu', 'detail': 'https://www.baskent.edu.tr/tr/etkinlikler/sempozyum/5-uluslararasi-sanat-ve-tasarim-egitimi-sempozyumu/599'}\n",
      "{'image': 'https://www.baskent.edu.tr/upload/images/etkinlikler/yuz-yillik-abide-thumbnail.jpg', 'date': 'NİSAN26', 'category': 'Etkinlik', 'heading': '\"Yüz Yıllık Abide\" Müzikli Anlatım', 'detail': 'https://ezkbutam.baskent.edu.tr/kw/duyuru_ayrinti.php?did=148985'}\n",
      "ISO-8859-1\n",
      "{'image': 'https://www.baskent.edu.tr/upload/images/etkinlikler/sam-cevrimici-panel-14-nisan-thumbnail.png', 'date': 'NİSAN14', 'category': 'Panel', 'heading': 'Rusya-Ukrayna Savaşının Bölgesel ve Küresel Güvenliğe Etkileri', 'detail': 'https://sam.baskent.edu.tr/kw/duyuru_ayrinti.php?did=148225'}\n",
      "{'image': 'https://www.baskent.edu.tr/upload/images/etkinlikler/turkiye-yuzyilinde-universtite-genclik-semp-thumbnail.png', 'date': 'NİSAN14', 'category': 'Sempozyum', 'heading': 'Türkiye Yüzyılında Üniversite Gençliği', 'detail': 'https://sporm.baskent.edu.tr/kw/duyuru_ayrinti.php?did=148857'}\n",
      "{'image': 'https://www.baskent.edu.tr/upload/images/etkinlikler/dogal-afetlerde-iha-thumbnail.png', 'date': 'NİSAN12-28', 'category': 'Yarışma', 'heading': 'Cumhuriyetimizin 100. Yılında Aranan Elemanlar Fikir ve Proje Yarışması', 'detail': 'https://aosbmyo.baskent.edu.tr/kw/duyuru_ayrinti.php?did=149010'}\n",
      "{'image': 'https://www.baskent.edu.tr/upload/images/etkinlikler/7nisanThumbnail.jpg', 'date': 'NİSAN07', 'category': 'Konser', 'heading': 'Orkestra Akademik Başkent 7 Nisan', 'detail': 'https://www.baskent.edu.tr/tr/etkinlikler/konser/orkestra-akademik-baskent-7-nisan/618'}\n",
      "{'image': 'https://www.baskent.edu.tr/upload/images/etkinlikler/sam-2-nisan-2023-thumbnail.png', 'date': 'NİSAN02', 'category': 'Etkinlik', 'heading': 'Barış ve Anlaşmazlıkların Çözümü Sertifika Programı', 'detail': 'https://www.baskent.edu.tr/tr/etkinlikler/etkinlik/baris-ve-anlasmazliklarin-cozumu-sertifika-programi/617'}\n",
      "{'image': 'https://www.baskent.edu.tr/upload/images/etkinlikler/pilates-27-mart-thumbnail.png', 'date': '27 MAR -09 NİS\\xa0\\xa0\\xa0', 'category': 'Kurs', 'heading': 'Kurslarımız Başlıyor! Pilates ve Core Work Out', 'detail': 'https://sporm.baskent.edu.tr/kw/duyuru_ayrinti.php?did=147627'}\n",
      "{'image': 'https://www.baskent.edu.tr/upload/images/etkinlikler/sezon_konserleri_5_2023_thumbnail.png', 'date': 'MART23', 'category': 'Konser', 'heading': 'Orkestra Akademik Başkent Sezon Konserleri #5', 'detail': 'https://www.baskent.edu.tr/tr/etkinlikler/konser/orkestra-akademik-baskent-sezon-konserleri-5/615'}\n",
      "{'image': 'https://www.baskent.edu.tr/upload/images/etkinlikler/18mart2023-thumbnail.png', 'date': 'MART18', 'category': 'Etkinlik', 'heading': '18 Mart Çanakkale Zaferi ve Şehitleri Anma Günü', 'detail': 'https://atamer.baskent.edu.tr/kw/duyuru_ayrinti.php?did=146876'}\n",
      "ISO-8859-1\n",
      "{'image': 'https://www.baskent.edu.tr/upload/images/etkinlikler/koy-enstituleri-2023-thumbnail.png', 'date': 'MART16', 'category': 'Etkinlik', 'heading': 'Köy Enstitülerinin Türk Kadınının Gelişmesine Katkısı', 'detail': 'https://ezkbutam.baskent.edu.tr/kw/duyuru_ayrinti.php?did=146828'}\n",
      "{'image': 'https://www.baskent.edu.tr/upload/images/etkinlikler/afet-eob-thumbnail-2023.png', 'date': 'MART13', 'category': 'Etkinlik', 'heading': 'Afetlerde Engellilerle Çalışacak Meslek Elemanlarına Yönelik Psikolojik İlk Yardım Eğitimi', 'detail': 'https://www.baskent.edu.tr/tr/etkinlikler/etkinlik/afetlerde-engellilerle-calisacak-meslek-elemanlarina-yonelik-psikolojik-ilk-yardim-egitimi/612'}\n",
      "{'image': 'https://www.baskent.edu.tr/upload/images/etkinlikler/pediatri-thumbnail-2023.png', 'date': 'MART09-11', 'category': 'Kongre', 'heading': 'V. Başkent Pediatri Günleri', 'detail': 'https://baskentpediatrigunleri.com/'}\n",
      "{'image': 'https://www.baskent.edu.tr/upload/images/etkinlikler/toplumsal-cinsiyet-thumbnail.jpg', 'date': 'MART03', 'category': 'Panel', 'heading': 'Toplumsal Cinsiyet Paneli', 'detail': 'https://www.baskent.edu.tr/tr/etkinlikler/panel/toplumsal-cinsiyet-paneli/605'}\n",
      "{'image': 'https://www.baskent.edu.tr/upload/images/etkinlikler/cumhuriyetin-saglik-politikasi-thumbnaili.jpg', 'date': 'ŞUBAT22', 'category': 'Etkinlik', 'heading': 'Cumhuriyetin Sağlık Politikası ve Günümüz', 'detail': 'https://ezkbutam.baskent.edu.tr/kw/duyuru_ayrinti.php?did=142487'}\n",
      "{'image': 'https://www.baskent.edu.tr/upload/images/etkinlikler/bogem-22-subatthumbnail.png', 'date': '22 ŞUB -10 MAY\\xa0\\xa0\\xa0', 'category': 'Kurs', 'heading': 'Öğretim Elemanlarına ve İdari Personele Yönelik Yaratıcı Yazarlık Dersleri', 'detail': 'https://bogem.baskent.edu.tr/kw/duyuru_ayrinti.php?did=145435'}\n",
      "{'image': 'https://www.baskent.edu.tr/upload/images/etkinlikler/pilates-zumba-yoga-thumbnail-2023.jpg', 'date': 'ŞUBAT06-19', 'category': 'Kurs', 'heading': 'Aero Dans - Pilates - Zumba- Yoga - Core Work Out Kursları', 'detail': 'https://sporm.baskent.edu.tr/kw/menu_icerik.php?did=144920&dil=TR&birim=9986&menu_id=157'}\n",
      "{'image': 'https://www.baskent.edu.tr/upload/images/etkinlikler/kick-boks-thumbnail-2023.jpg', 'date': 'ŞUBAT06-20', 'category': 'Kurs', 'heading': 'Kick Boks Kursu', 'detail': 'https://sporm.baskent.edu.tr/kw/menu_icerik.php?did=144954&birim=9986&menu_id=185&dil=TR'}\n",
      "ISO-8859-1\n",
      "{'image': 'https://www.baskent.edu.tr/upload/images/etkinlikler/orkestra_akademik_3_thumbnail.jpg', 'date': 'OCAK17', 'category': 'Konser', 'heading': 'Orkestra Akademik Başkent Sezon Konserleri #3', 'detail': 'https://www.baskent.edu.tr/tr/etkinlikler/konser/orkestra-akademik-baskent-sezon-konserleri-3/603'}\n",
      "{'image': 'https://www.baskent.edu.tr/upload/images/etkinlikler/tga_subat_2023_thumbnail.jpg', 'date': 'OCAK09-23', 'category': 'Kurs', 'heading': 'TGA Şubat Kursları', 'detail': 'https://www.baskent.edu.tr/tr/etkinlikler/kurs/tga-subat-kurslari/604'}\n",
      "{'image': 'https://www.baskent.edu.tr/upload/images/etkinlikler/yildirim-satranc-thumbnail.jpg', 'date': 'OCAK09-16', 'category': 'Turnuva', 'heading': 'Personel Yıldırım Satranç Turnuvası', 'detail': 'https://sporm.baskent.edu.tr/kw/duyuru_ayrinti.php?birim=9986&menu_id=188&dil=TR&page=2&did=142872'}\n",
      "{'image': 'https://www.baskent.edu.tr/upload/images/etkinlikler/personel-turnuvasi-ocak-2023-thumbnail(1).jpg', 'date': 'OCAK02-12', 'category': 'Etkinlik', 'heading': '2. Geleneksel Personel Turnuvaları', 'detail': 'https://sporm.baskent.edu.tr/kw/index.php?did=142081&dil=TR'}\n",
      "{'image': 'https://www.baskent.edu.tr/upload/images/etkinlikler/buzem-egitim-2022-thumbnail.png', 'date': 'EYLÜL12', 'category': 'Etkinlik', 'heading': 'Öğrencilere Yönelik Uzaktan Öğretim Uygulamaları Eğitimi', 'detail': 'https://buzem.baskent.edu.tr'}\n",
      "{'image': 'https://www.baskent.edu.tr/upload/images/etkinlikler/manobg-thumbnail.png', 'date': 'EYLÜL10-12', 'category': 'Kongre', 'heading': 'Management and Organizational Studies On Blue & Grey Collar Workers International Congress', 'detail': 'https://manobg.org/'}\n",
      "{'image': 'https://www.baskent.edu.tr/upload/images/etkinlikler/agep-thumbnail-2022.jpg', 'date': 'EYLÜL06-08', 'category': 'Etkinlik', 'heading': '2022-2023 Akademik Yılı Güz Dönemi - Akademik Gelişim Programı (AGEP)', 'detail': 'https://www.baskent.edu.tr/tr/etkinlikler/etkinlik/2022-2023-akademik-yili-guz-donemi-akademik-gelisim-programi-agep/596'}\n",
      "{'image': 'https://www.baskent.edu.tr/upload/images/haberler/yenigorseller/id21.jpg', 'date': '31 AĞU -02 EYL\\xa0\\xa0\\xa0', 'category': 'Etkinlik', 'heading': 'Skills Tracking System as a Digital Solution for Student-Centred Learning: SKILLTRACK', 'detail': 'https://www.baskent.edu.tr/tr/etkinlikler/etkinlik/skills-tracking-system-as-a-digital-solution-for-student-centred-learning-skilltrack/595'}\n",
      "ISO-8859-1\n",
      "{'image': 'https://www.baskent.edu.tr/upload/images/etkinlikler/troia-thumbnail.png', 'date': 'AĞUSTOS09-13', 'category': 'Yarışma', 'heading': '59. Uluslararası Troia Festivali Afiş Yarışması Sonuçlandı', 'detail': 'https://gsf.baskent.edu.tr/kw/duyuru_ayrinti.php?did=131364'}\n",
      "{'image': 'https://www.baskent.edu.tr/upload/images/etkinlikler/id84.jpg', 'date': 'TEMMUZ07', 'category': 'Panel', 'heading': '15 Temmuz Demokrasi ve Milli Birlik Günü Anma Etkinlikleri', 'detail': 'https://www.baskent.edu.tr/tr/etkinlikler/panel/15-temmuz-demokrasi-ve-milli-birlik-gunu-anma-etkinlikleri/594'}\n",
      "{'image': 'https://www.baskent.edu.tr/upload/images/etkinlikler/akreditasyon-panel-thumbnail2.png', 'date': 'TEMMUZ05', 'category': 'Panel', 'heading': 'Akreditasyonda Uluslararasılaşma Paneli', 'detail': 'https://www.baskent.edu.tr/tr/etkinlikler/panel/akreditasyonda-uluslararasilasma-paneli/593'}\n",
      "{'image': 'https://www.baskent.edu.tr/upload/images/etkinlikler/tarih-sohbetleri-karadeniz-vapuru-thumbnail.png', 'date': 'HAZİRAN13', 'category': 'Konuşma', 'heading': 'Genç Cumhuriyetin Batıya Tanıtılması: Karadeniz Vapuru', 'detail': 'https://ezkbutam.baskent.edu.tr/kw/duyuru_ayrinti.php?did=130671'}\n",
      "{'image': 'https://www.baskent.edu.tr/upload/images/etkinlikler/girisimci-fikirler-thumbnail.png', 'date': 'HAZİRAN09-10', 'category': 'Eğitim', 'heading': 'IV. Girişimci Fikirler ve İş Kurma Eğitimi', 'detail': 'http://biyotek.baskent.edu.tr/kw/duyuru_ayrinti.php?did=129304'}\n",
      "{'image': 'https://www.baskent.edu.tr/upload/images/etkinlikler/teknoloji-atolyeleri-thumbnail.png', 'date': 'HAZİRAN04-07', 'category': 'Eğitim', 'heading': 'III. Teknoloji Atölyeleri', 'detail': 'http://biyotek.baskent.edu.tr/kw/duyuru_ayrinti.php?did=129372'}\n",
      "{'image': 'https://www.baskent.edu.tr/upload/images/etkinlikler/tga_haziran_thumbnail.png', 'date': 'HAZİRAN01-25', 'category': 'Kurs', 'heading': 'TGA Haziran Kursları', 'detail': 'https://www.baskent.edu.tr/tr/etkinlikler/kurs/tga-haziran-kurslari/582'}\n",
      "{'image': 'https://www.baskent.edu.tr/upload/images/etkinlikler/girisimci-hizlandirici-thumbnail.png', 'date': 'HAZİRAN01-03', 'category': 'Eğitim', 'heading': 'IV. Girişimci Hızlandırıcı Programı', 'detail': 'http://biyotek.baskent.edu.tr/kw/duyuru_ayrinti.php?did=129241'}\n"
     ]
    },
    {
     "ename": "KeyboardInterrupt",
     "evalue": "",
     "output_type": "error",
     "traceback": [
      "\u001b[1;31m---------------------------------------------------------------------------\u001b[0m",
      "\u001b[1;31mKeyboardInterrupt\u001b[0m                         Traceback (most recent call last)",
      "Cell \u001b[1;32mIn[10], line 2\u001b[0m\n\u001b[0;32m      1\u001b[0m \u001b[39mfor\u001b[39;00m i \u001b[39min\u001b[39;00m \u001b[39mrange\u001b[39m(\u001b[39m2\u001b[39m,\u001b[39m10\u001b[39m):\n\u001b[1;32m----> 2\u001b[0m     page\u001b[39m=\u001b[39mgetPage(i)\n\u001b[0;32m      3\u001b[0m     events\u001b[39m=\u001b[39mpage\u001b[39m.\u001b[39mfindAll(\u001b[39m\"\u001b[39m\u001b[39mdiv\u001b[39m\u001b[39m\"\u001b[39m,class_\u001b[39m=\u001b[39m\u001b[39m\"\u001b[39m\u001b[39mcbp-item\u001b[39m\u001b[39m\"\u001b[39m)\n\u001b[0;32m      4\u001b[0m     \u001b[39mfor\u001b[39;00m event \u001b[39min\u001b[39;00m events:\n",
      "Cell \u001b[1;32mIn[5], line 3\u001b[0m, in \u001b[0;36mgetPage\u001b[1;34m(page_num)\u001b[0m\n\u001b[0;32m      1\u001b[0m \u001b[39mdef\u001b[39;00m \u001b[39mgetPage\u001b[39m(page_num):\n\u001b[0;32m      2\u001b[0m     link\u001b[39m=\u001b[39m\u001b[39m\"\u001b[39m\u001b[39mhttps://www.baskent.edu.tr/tr/etkinlikler?sayfa=\u001b[39m\u001b[39m{}\u001b[39;00m\u001b[39m\"\u001b[39m\n\u001b[1;32m----> 3\u001b[0m     page_raw\u001b[39m=\u001b[39mrequests\u001b[39m.\u001b[39;49mget(link\u001b[39m.\u001b[39;49mformat(page_num))\n\u001b[0;32m      4\u001b[0m     \u001b[39mprint\u001b[39m(page_raw\u001b[39m.\u001b[39mencoding)\n\u001b[0;32m      5\u001b[0m     page\u001b[39m=\u001b[39mBeautifulSoup(page_raw\u001b[39m.\u001b[39mcontent\u001b[39m.\u001b[39mdecode(\u001b[39m\"\u001b[39m\u001b[39mUTF-8\u001b[39m\u001b[39m\"\u001b[39m),\u001b[39m\"\u001b[39m\u001b[39mlxml\u001b[39m\u001b[39m\"\u001b[39m)\n",
      "File \u001b[1;32mc:\\Users\\eren\\AppData\\Local\\Programs\\Python\\Python311\\Lib\\site-packages\\requests\\api.py:73\u001b[0m, in \u001b[0;36mget\u001b[1;34m(url, params, **kwargs)\u001b[0m\n\u001b[0;32m     62\u001b[0m \u001b[39mdef\u001b[39;00m \u001b[39mget\u001b[39m(url, params\u001b[39m=\u001b[39m\u001b[39mNone\u001b[39;00m, \u001b[39m*\u001b[39m\u001b[39m*\u001b[39mkwargs):\n\u001b[0;32m     63\u001b[0m \u001b[39m    \u001b[39m\u001b[39mr\u001b[39m\u001b[39m\"\"\"Sends a GET request.\u001b[39;00m\n\u001b[0;32m     64\u001b[0m \n\u001b[0;32m     65\u001b[0m \u001b[39m    :param url: URL for the new :class:`Request` object.\u001b[39;00m\n\u001b[1;32m   (...)\u001b[0m\n\u001b[0;32m     70\u001b[0m \u001b[39m    :rtype: requests.Response\u001b[39;00m\n\u001b[0;32m     71\u001b[0m \u001b[39m    \"\"\"\u001b[39;00m\n\u001b[1;32m---> 73\u001b[0m     \u001b[39mreturn\u001b[39;00m request(\u001b[39m\"\u001b[39;49m\u001b[39mget\u001b[39;49m\u001b[39m\"\u001b[39;49m, url, params\u001b[39m=\u001b[39;49mparams, \u001b[39m*\u001b[39;49m\u001b[39m*\u001b[39;49mkwargs)\n",
      "File \u001b[1;32mc:\\Users\\eren\\AppData\\Local\\Programs\\Python\\Python311\\Lib\\site-packages\\requests\\api.py:59\u001b[0m, in \u001b[0;36mrequest\u001b[1;34m(method, url, **kwargs)\u001b[0m\n\u001b[0;32m     55\u001b[0m \u001b[39m# By using the 'with' statement we are sure the session is closed, thus we\u001b[39;00m\n\u001b[0;32m     56\u001b[0m \u001b[39m# avoid leaving sockets open which can trigger a ResourceWarning in some\u001b[39;00m\n\u001b[0;32m     57\u001b[0m \u001b[39m# cases, and look like a memory leak in others.\u001b[39;00m\n\u001b[0;32m     58\u001b[0m \u001b[39mwith\u001b[39;00m sessions\u001b[39m.\u001b[39mSession() \u001b[39mas\u001b[39;00m session:\n\u001b[1;32m---> 59\u001b[0m     \u001b[39mreturn\u001b[39;00m session\u001b[39m.\u001b[39;49mrequest(method\u001b[39m=\u001b[39;49mmethod, url\u001b[39m=\u001b[39;49murl, \u001b[39m*\u001b[39;49m\u001b[39m*\u001b[39;49mkwargs)\n",
      "File \u001b[1;32mc:\\Users\\eren\\AppData\\Local\\Programs\\Python\\Python311\\Lib\\site-packages\\requests\\sessions.py:589\u001b[0m, in \u001b[0;36mSession.request\u001b[1;34m(self, method, url, params, data, headers, cookies, files, auth, timeout, allow_redirects, proxies, hooks, stream, verify, cert, json)\u001b[0m\n\u001b[0;32m    584\u001b[0m send_kwargs \u001b[39m=\u001b[39m {\n\u001b[0;32m    585\u001b[0m     \u001b[39m\"\u001b[39m\u001b[39mtimeout\u001b[39m\u001b[39m\"\u001b[39m: timeout,\n\u001b[0;32m    586\u001b[0m     \u001b[39m\"\u001b[39m\u001b[39mallow_redirects\u001b[39m\u001b[39m\"\u001b[39m: allow_redirects,\n\u001b[0;32m    587\u001b[0m }\n\u001b[0;32m    588\u001b[0m send_kwargs\u001b[39m.\u001b[39mupdate(settings)\n\u001b[1;32m--> 589\u001b[0m resp \u001b[39m=\u001b[39m \u001b[39mself\u001b[39;49m\u001b[39m.\u001b[39;49msend(prep, \u001b[39m*\u001b[39;49m\u001b[39m*\u001b[39;49msend_kwargs)\n\u001b[0;32m    591\u001b[0m \u001b[39mreturn\u001b[39;00m resp\n",
      "File \u001b[1;32mc:\\Users\\eren\\AppData\\Local\\Programs\\Python\\Python311\\Lib\\site-packages\\requests\\sessions.py:747\u001b[0m, in \u001b[0;36mSession.send\u001b[1;34m(self, request, **kwargs)\u001b[0m\n\u001b[0;32m    744\u001b[0m         \u001b[39mpass\u001b[39;00m\n\u001b[0;32m    746\u001b[0m \u001b[39mif\u001b[39;00m \u001b[39mnot\u001b[39;00m stream:\n\u001b[1;32m--> 747\u001b[0m     r\u001b[39m.\u001b[39;49mcontent\n\u001b[0;32m    749\u001b[0m \u001b[39mreturn\u001b[39;00m r\n",
      "File \u001b[1;32mc:\\Users\\eren\\AppData\\Local\\Programs\\Python\\Python311\\Lib\\site-packages\\requests\\models.py:899\u001b[0m, in \u001b[0;36mResponse.content\u001b[1;34m(self)\u001b[0m\n\u001b[0;32m    897\u001b[0m         \u001b[39mself\u001b[39m\u001b[39m.\u001b[39m_content \u001b[39m=\u001b[39m \u001b[39mNone\u001b[39;00m\n\u001b[0;32m    898\u001b[0m     \u001b[39melse\u001b[39;00m:\n\u001b[1;32m--> 899\u001b[0m         \u001b[39mself\u001b[39m\u001b[39m.\u001b[39m_content \u001b[39m=\u001b[39m \u001b[39mb\u001b[39m\u001b[39m\"\u001b[39m\u001b[39m\"\u001b[39m\u001b[39m.\u001b[39mjoin(\u001b[39mself\u001b[39m\u001b[39m.\u001b[39miter_content(CONTENT_CHUNK_SIZE)) \u001b[39mor\u001b[39;00m \u001b[39mb\u001b[39m\u001b[39m\"\u001b[39m\u001b[39m\"\u001b[39m\n\u001b[0;32m    901\u001b[0m \u001b[39mself\u001b[39m\u001b[39m.\u001b[39m_content_consumed \u001b[39m=\u001b[39m \u001b[39mTrue\u001b[39;00m\n\u001b[0;32m    902\u001b[0m \u001b[39m# don't need to release the connection; that's been handled by urllib3\u001b[39;00m\n\u001b[0;32m    903\u001b[0m \u001b[39m# since we exhausted the data.\u001b[39;00m\n",
      "File \u001b[1;32mc:\\Users\\eren\\AppData\\Local\\Programs\\Python\\Python311\\Lib\\site-packages\\requests\\models.py:816\u001b[0m, in \u001b[0;36mResponse.iter_content.<locals>.generate\u001b[1;34m()\u001b[0m\n\u001b[0;32m    814\u001b[0m \u001b[39mif\u001b[39;00m \u001b[39mhasattr\u001b[39m(\u001b[39mself\u001b[39m\u001b[39m.\u001b[39mraw, \u001b[39m\"\u001b[39m\u001b[39mstream\u001b[39m\u001b[39m\"\u001b[39m):\n\u001b[0;32m    815\u001b[0m     \u001b[39mtry\u001b[39;00m:\n\u001b[1;32m--> 816\u001b[0m         \u001b[39myield from\u001b[39;00m \u001b[39mself\u001b[39m\u001b[39m.\u001b[39mraw\u001b[39m.\u001b[39mstream(chunk_size, decode_content\u001b[39m=\u001b[39m\u001b[39mTrue\u001b[39;00m)\n\u001b[0;32m    817\u001b[0m     \u001b[39mexcept\u001b[39;00m ProtocolError \u001b[39mas\u001b[39;00m e:\n\u001b[0;32m    818\u001b[0m         \u001b[39mraise\u001b[39;00m ChunkedEncodingError(e)\n",
      "File \u001b[1;32mc:\\Users\\eren\\AppData\\Local\\Programs\\Python\\Python311\\Lib\\site-packages\\urllib3\\response.py:937\u001b[0m, in \u001b[0;36mHTTPResponse.stream\u001b[1;34m(self, amt, decode_content)\u001b[0m\n\u001b[0;32m    921\u001b[0m \u001b[39m\u001b[39m\u001b[39m\"\"\"\u001b[39;00m\n\u001b[0;32m    922\u001b[0m \u001b[39mA generator wrapper for the read() method. A call will block until\u001b[39;00m\n\u001b[0;32m    923\u001b[0m \u001b[39m``amt`` bytes have been read from the connection or until the\u001b[39;00m\n\u001b[1;32m   (...)\u001b[0m\n\u001b[0;32m    934\u001b[0m \u001b[39m    'content-encoding' header.\u001b[39;00m\n\u001b[0;32m    935\u001b[0m \u001b[39m\"\"\"\u001b[39;00m\n\u001b[0;32m    936\u001b[0m \u001b[39mif\u001b[39;00m \u001b[39mself\u001b[39m\u001b[39m.\u001b[39mchunked \u001b[39mand\u001b[39;00m \u001b[39mself\u001b[39m\u001b[39m.\u001b[39msupports_chunked_reads():\n\u001b[1;32m--> 937\u001b[0m     \u001b[39myield from\u001b[39;00m \u001b[39mself\u001b[39m\u001b[39m.\u001b[39mread_chunked(amt, decode_content\u001b[39m=\u001b[39mdecode_content)\n\u001b[0;32m    938\u001b[0m \u001b[39melse\u001b[39;00m:\n\u001b[0;32m    939\u001b[0m     \u001b[39mwhile\u001b[39;00m \u001b[39mnot\u001b[39;00m is_fp_closed(\u001b[39mself\u001b[39m\u001b[39m.\u001b[39m_fp) \u001b[39mor\u001b[39;00m \u001b[39mlen\u001b[39m(\u001b[39mself\u001b[39m\u001b[39m.\u001b[39m_decoded_buffer) \u001b[39m>\u001b[39m \u001b[39m0\u001b[39m:\n",
      "File \u001b[1;32mc:\\Users\\eren\\AppData\\Local\\Programs\\Python\\Python311\\Lib\\site-packages\\urllib3\\response.py:1080\u001b[0m, in \u001b[0;36mHTTPResponse.read_chunked\u001b[1;34m(self, amt, decode_content)\u001b[0m\n\u001b[0;32m   1078\u001b[0m \u001b[39mif\u001b[39;00m \u001b[39mself\u001b[39m\u001b[39m.\u001b[39mchunk_left \u001b[39m==\u001b[39m \u001b[39m0\u001b[39m:\n\u001b[0;32m   1079\u001b[0m     \u001b[39mbreak\u001b[39;00m\n\u001b[1;32m-> 1080\u001b[0m chunk \u001b[39m=\u001b[39m \u001b[39mself\u001b[39;49m\u001b[39m.\u001b[39;49m_handle_chunk(amt)\n\u001b[0;32m   1081\u001b[0m decoded \u001b[39m=\u001b[39m \u001b[39mself\u001b[39m\u001b[39m.\u001b[39m_decode(\n\u001b[0;32m   1082\u001b[0m     chunk, decode_content\u001b[39m=\u001b[39mdecode_content, flush_decoder\u001b[39m=\u001b[39m\u001b[39mFalse\u001b[39;00m\n\u001b[0;32m   1083\u001b[0m )\n\u001b[0;32m   1084\u001b[0m \u001b[39mif\u001b[39;00m decoded:\n",
      "File \u001b[1;32mc:\\Users\\eren\\AppData\\Local\\Programs\\Python\\Python311\\Lib\\site-packages\\urllib3\\response.py:1032\u001b[0m, in \u001b[0;36mHTTPResponse._handle_chunk\u001b[1;34m(self, amt)\u001b[0m\n\u001b[0;32m   1030\u001b[0m \u001b[39melse\u001b[39;00m:  \u001b[39m# amt > self.chunk_left\u001b[39;00m\n\u001b[0;32m   1031\u001b[0m     returned_chunk \u001b[39m=\u001b[39m \u001b[39mself\u001b[39m\u001b[39m.\u001b[39m_fp\u001b[39m.\u001b[39m_safe_read(\u001b[39mself\u001b[39m\u001b[39m.\u001b[39mchunk_left)  \u001b[39m# type: ignore[union-attr]\u001b[39;00m\n\u001b[1;32m-> 1032\u001b[0m     \u001b[39mself\u001b[39;49m\u001b[39m.\u001b[39;49m_fp\u001b[39m.\u001b[39;49m_safe_read(\u001b[39m2\u001b[39;49m)  \u001b[39m# type: ignore[union-attr] # Toss the CRLF at the end of the chunk.\u001b[39;00m\n\u001b[0;32m   1033\u001b[0m     \u001b[39mself\u001b[39m\u001b[39m.\u001b[39mchunk_left \u001b[39m=\u001b[39m \u001b[39mNone\u001b[39;00m\n\u001b[0;32m   1034\u001b[0m \u001b[39mreturn\u001b[39;00m returned_chunk\n",
      "File \u001b[1;32mc:\\Users\\eren\\AppData\\Local\\Programs\\Python\\Python311\\Lib\\http\\client.py:630\u001b[0m, in \u001b[0;36mHTTPResponse._safe_read\u001b[1;34m(self, amt)\u001b[0m\n\u001b[0;32m    623\u001b[0m \u001b[39mdef\u001b[39;00m \u001b[39m_safe_read\u001b[39m(\u001b[39mself\u001b[39m, amt):\n\u001b[0;32m    624\u001b[0m \u001b[39m    \u001b[39m\u001b[39m\"\"\"Read the number of bytes requested.\u001b[39;00m\n\u001b[0;32m    625\u001b[0m \n\u001b[0;32m    626\u001b[0m \u001b[39m    This function should be used when <amt> bytes \"should\" be present for\u001b[39;00m\n\u001b[0;32m    627\u001b[0m \u001b[39m    reading. If the bytes are truly not available (due to EOF), then the\u001b[39;00m\n\u001b[0;32m    628\u001b[0m \u001b[39m    IncompleteRead exception can be used to detect the problem.\u001b[39;00m\n\u001b[0;32m    629\u001b[0m \u001b[39m    \"\"\"\u001b[39;00m\n\u001b[1;32m--> 630\u001b[0m     data \u001b[39m=\u001b[39m \u001b[39mself\u001b[39m\u001b[39m.\u001b[39mfp\u001b[39m.\u001b[39mread(amt)\n\u001b[0;32m    631\u001b[0m     \u001b[39mif\u001b[39;00m \u001b[39mlen\u001b[39m(data) \u001b[39m<\u001b[39m amt:\n\u001b[0;32m    632\u001b[0m         \u001b[39mraise\u001b[39;00m IncompleteRead(data, amt\u001b[39m-\u001b[39m\u001b[39mlen\u001b[39m(data))\n",
      "File \u001b[1;32mc:\\Users\\eren\\AppData\\Local\\Programs\\Python\\Python311\\Lib\\socket.py:706\u001b[0m, in \u001b[0;36mSocketIO.readinto\u001b[1;34m(self, b)\u001b[0m\n\u001b[0;32m    704\u001b[0m \u001b[39mwhile\u001b[39;00m \u001b[39mTrue\u001b[39;00m:\n\u001b[0;32m    705\u001b[0m     \u001b[39mtry\u001b[39;00m:\n\u001b[1;32m--> 706\u001b[0m         \u001b[39mreturn\u001b[39;00m \u001b[39mself\u001b[39;49m\u001b[39m.\u001b[39;49m_sock\u001b[39m.\u001b[39;49mrecv_into(b)\n\u001b[0;32m    707\u001b[0m     \u001b[39mexcept\u001b[39;00m timeout:\n\u001b[0;32m    708\u001b[0m         \u001b[39mself\u001b[39m\u001b[39m.\u001b[39m_timeout_occurred \u001b[39m=\u001b[39m \u001b[39mTrue\u001b[39;00m\n",
      "File \u001b[1;32mc:\\Users\\eren\\AppData\\Local\\Programs\\Python\\Python311\\Lib\\ssl.py:1278\u001b[0m, in \u001b[0;36mSSLSocket.recv_into\u001b[1;34m(self, buffer, nbytes, flags)\u001b[0m\n\u001b[0;32m   1274\u001b[0m     \u001b[39mif\u001b[39;00m flags \u001b[39m!=\u001b[39m \u001b[39m0\u001b[39m:\n\u001b[0;32m   1275\u001b[0m         \u001b[39mraise\u001b[39;00m \u001b[39mValueError\u001b[39;00m(\n\u001b[0;32m   1276\u001b[0m           \u001b[39m\"\u001b[39m\u001b[39mnon-zero flags not allowed in calls to recv_into() on \u001b[39m\u001b[39m%s\u001b[39;00m\u001b[39m\"\u001b[39m \u001b[39m%\u001b[39m\n\u001b[0;32m   1277\u001b[0m           \u001b[39mself\u001b[39m\u001b[39m.\u001b[39m\u001b[39m__class__\u001b[39m)\n\u001b[1;32m-> 1278\u001b[0m     \u001b[39mreturn\u001b[39;00m \u001b[39mself\u001b[39;49m\u001b[39m.\u001b[39;49mread(nbytes, buffer)\n\u001b[0;32m   1279\u001b[0m \u001b[39melse\u001b[39;00m:\n\u001b[0;32m   1280\u001b[0m     \u001b[39mreturn\u001b[39;00m \u001b[39msuper\u001b[39m()\u001b[39m.\u001b[39mrecv_into(buffer, nbytes, flags)\n",
      "File \u001b[1;32mc:\\Users\\eren\\AppData\\Local\\Programs\\Python\\Python311\\Lib\\ssl.py:1134\u001b[0m, in \u001b[0;36mSSLSocket.read\u001b[1;34m(self, len, buffer)\u001b[0m\n\u001b[0;32m   1132\u001b[0m \u001b[39mtry\u001b[39;00m:\n\u001b[0;32m   1133\u001b[0m     \u001b[39mif\u001b[39;00m buffer \u001b[39mis\u001b[39;00m \u001b[39mnot\u001b[39;00m \u001b[39mNone\u001b[39;00m:\n\u001b[1;32m-> 1134\u001b[0m         \u001b[39mreturn\u001b[39;00m \u001b[39mself\u001b[39;49m\u001b[39m.\u001b[39;49m_sslobj\u001b[39m.\u001b[39;49mread(\u001b[39mlen\u001b[39;49m, buffer)\n\u001b[0;32m   1135\u001b[0m     \u001b[39melse\u001b[39;00m:\n\u001b[0;32m   1136\u001b[0m         \u001b[39mreturn\u001b[39;00m \u001b[39mself\u001b[39m\u001b[39m.\u001b[39m_sslobj\u001b[39m.\u001b[39mread(\u001b[39mlen\u001b[39m)\n",
      "\u001b[1;31mKeyboardInterrupt\u001b[0m: "
     ]
    }
   ],
   "source": [
    "\n",
    "for i in range(2,10):\n",
    "    page=getPage(i)\n",
    "    events=page.findAll(\"div\",class_=\"cbp-item\")\n",
    "    for event in events:\n",
    "        detail=getDetails(event)\n",
    "        event_details.append(detail)\n",
    "        print(detail)"
   ]
  },
  {
   "cell_type": "code",
   "execution_count": 7,
   "metadata": {},
   "outputs": [
    {
     "ename": "DefaultCredentialsError",
     "evalue": "Your default credentials were not found. To set up Application Default Credentials, see https://cloud.google.com/docs/authentication/external/set-up-adc for more information.",
     "output_type": "error",
     "traceback": [
      "\u001b[1;31m---------------------------------------------------------------------------\u001b[0m",
      "\u001b[1;31mDefaultCredentialsError\u001b[0m                   Traceback (most recent call last)",
      "Cell \u001b[1;32mIn[7], line 28\u001b[0m\n\u001b[0;32m     24\u001b[0m         \u001b[39mprint\u001b[39m(label\u001b[39m.\u001b[39mdescription)\n\u001b[0;32m     26\u001b[0m     \u001b[39mreturn\u001b[39;00m labels\n\u001b[1;32m---> 28\u001b[0m \u001b[39mprint\u001b[39m(run_quickstart())\n",
      "Cell \u001b[1;32mIn[7], line 10\u001b[0m, in \u001b[0;36mrun_quickstart\u001b[1;34m()\u001b[0m\n\u001b[0;32m      7\u001b[0m \u001b[39m\u001b[39m\u001b[39m\"\"\"Provides a quick start example for Cloud Vision.\"\"\"\u001b[39;00m\n\u001b[0;32m      9\u001b[0m \u001b[39m# Instantiates a client\u001b[39;00m\n\u001b[1;32m---> 10\u001b[0m client \u001b[39m=\u001b[39m vision\u001b[39m.\u001b[39;49mImageAnnotatorClient()\n\u001b[0;32m     12\u001b[0m \u001b[39m# The URI of the image file to annotate\u001b[39;00m\n\u001b[0;32m     13\u001b[0m file_uri \u001b[39m=\u001b[39m \u001b[39m\"\u001b[39m\u001b[39mgs://cloud-samples-data/vision/label/wakeupcat.jpg\u001b[39m\u001b[39m\"\u001b[39m\n",
      "File \u001b[1;32mc:\\Users\\eren\\AppData\\Local\\Programs\\Python\\Python311\\Lib\\site-packages\\google\\cloud\\vision_v1\\services\\image_annotator\\client.py:462\u001b[0m, in \u001b[0;36mImageAnnotatorClient.__init__\u001b[1;34m(self, credentials, transport, client_options, client_info)\u001b[0m\n\u001b[0;32m    457\u001b[0m     credentials \u001b[39m=\u001b[39m google\u001b[39m.\u001b[39mauth\u001b[39m.\u001b[39m_default\u001b[39m.\u001b[39mget_api_key_credentials(\n\u001b[0;32m    458\u001b[0m         api_key_value\n\u001b[0;32m    459\u001b[0m     )\n\u001b[0;32m    461\u001b[0m Transport \u001b[39m=\u001b[39m \u001b[39mtype\u001b[39m(\u001b[39mself\u001b[39m)\u001b[39m.\u001b[39mget_transport_class(transport)\n\u001b[1;32m--> 462\u001b[0m \u001b[39mself\u001b[39m\u001b[39m.\u001b[39m_transport \u001b[39m=\u001b[39m Transport(\n\u001b[0;32m    463\u001b[0m     credentials\u001b[39m=\u001b[39;49mcredentials,\n\u001b[0;32m    464\u001b[0m     credentials_file\u001b[39m=\u001b[39;49mclient_options\u001b[39m.\u001b[39;49mcredentials_file,\n\u001b[0;32m    465\u001b[0m     host\u001b[39m=\u001b[39;49mapi_endpoint,\n\u001b[0;32m    466\u001b[0m     scopes\u001b[39m=\u001b[39;49mclient_options\u001b[39m.\u001b[39;49mscopes,\n\u001b[0;32m    467\u001b[0m     client_cert_source_for_mtls\u001b[39m=\u001b[39;49mclient_cert_source_func,\n\u001b[0;32m    468\u001b[0m     quota_project_id\u001b[39m=\u001b[39;49mclient_options\u001b[39m.\u001b[39;49mquota_project_id,\n\u001b[0;32m    469\u001b[0m     client_info\u001b[39m=\u001b[39;49mclient_info,\n\u001b[0;32m    470\u001b[0m     always_use_jwt_access\u001b[39m=\u001b[39;49m\u001b[39mTrue\u001b[39;49;00m,\n\u001b[0;32m    471\u001b[0m     api_audience\u001b[39m=\u001b[39;49mclient_options\u001b[39m.\u001b[39;49mapi_audience,\n\u001b[0;32m    472\u001b[0m )\n",
      "File \u001b[1;32mc:\\Users\\eren\\AppData\\Local\\Programs\\Python\\Python311\\Lib\\site-packages\\google\\cloud\\vision_v1\\services\\image_annotator\\transports\\grpc.py:155\u001b[0m, in \u001b[0;36mImageAnnotatorGrpcTransport.__init__\u001b[1;34m(self, host, credentials, credentials_file, scopes, channel, api_mtls_endpoint, client_cert_source, ssl_channel_credentials, client_cert_source_for_mtls, quota_project_id, client_info, always_use_jwt_access, api_audience)\u001b[0m\n\u001b[0;32m    150\u001b[0m             \u001b[39mself\u001b[39m\u001b[39m.\u001b[39m_ssl_channel_credentials \u001b[39m=\u001b[39m grpc\u001b[39m.\u001b[39mssl_channel_credentials(\n\u001b[0;32m    151\u001b[0m                 certificate_chain\u001b[39m=\u001b[39mcert, private_key\u001b[39m=\u001b[39mkey\n\u001b[0;32m    152\u001b[0m             )\n\u001b[0;32m    154\u001b[0m \u001b[39m# The base transport sets the host, credentials and scopes\u001b[39;00m\n\u001b[1;32m--> 155\u001b[0m \u001b[39msuper\u001b[39;49m()\u001b[39m.\u001b[39;49m\u001b[39m__init__\u001b[39;49m(\n\u001b[0;32m    156\u001b[0m     host\u001b[39m=\u001b[39;49mhost,\n\u001b[0;32m    157\u001b[0m     credentials\u001b[39m=\u001b[39;49mcredentials,\n\u001b[0;32m    158\u001b[0m     credentials_file\u001b[39m=\u001b[39;49mcredentials_file,\n\u001b[0;32m    159\u001b[0m     scopes\u001b[39m=\u001b[39;49mscopes,\n\u001b[0;32m    160\u001b[0m     quota_project_id\u001b[39m=\u001b[39;49mquota_project_id,\n\u001b[0;32m    161\u001b[0m     client_info\u001b[39m=\u001b[39;49mclient_info,\n\u001b[0;32m    162\u001b[0m     always_use_jwt_access\u001b[39m=\u001b[39;49malways_use_jwt_access,\n\u001b[0;32m    163\u001b[0m     api_audience\u001b[39m=\u001b[39;49mapi_audience,\n\u001b[0;32m    164\u001b[0m )\n\u001b[0;32m    166\u001b[0m \u001b[39mif\u001b[39;00m \u001b[39mnot\u001b[39;00m \u001b[39mself\u001b[39m\u001b[39m.\u001b[39m_grpc_channel:\n\u001b[0;32m    167\u001b[0m     \u001b[39mself\u001b[39m\u001b[39m.\u001b[39m_grpc_channel \u001b[39m=\u001b[39m \u001b[39mtype\u001b[39m(\u001b[39mself\u001b[39m)\u001b[39m.\u001b[39mcreate_channel(\n\u001b[0;32m    168\u001b[0m         \u001b[39mself\u001b[39m\u001b[39m.\u001b[39m_host,\n\u001b[0;32m    169\u001b[0m         \u001b[39m# use the credentials which are saved\u001b[39;00m\n\u001b[1;32m   (...)\u001b[0m\n\u001b[0;32m    180\u001b[0m         ],\n\u001b[0;32m    181\u001b[0m     )\n",
      "File \u001b[1;32mc:\\Users\\eren\\AppData\\Local\\Programs\\Python\\Python311\\Lib\\site-packages\\google\\cloud\\vision_v1\\services\\image_annotator\\transports\\base.py:103\u001b[0m, in \u001b[0;36mImageAnnotatorTransport.__init__\u001b[1;34m(self, host, credentials, credentials_file, scopes, quota_project_id, client_info, always_use_jwt_access, api_audience, **kwargs)\u001b[0m\n\u001b[0;32m     99\u001b[0m     credentials, _ \u001b[39m=\u001b[39m google\u001b[39m.\u001b[39mauth\u001b[39m.\u001b[39mload_credentials_from_file(\n\u001b[0;32m    100\u001b[0m         credentials_file, \u001b[39m*\u001b[39m\u001b[39m*\u001b[39mscopes_kwargs, quota_project_id\u001b[39m=\u001b[39mquota_project_id\n\u001b[0;32m    101\u001b[0m     )\n\u001b[0;32m    102\u001b[0m \u001b[39melif\u001b[39;00m credentials \u001b[39mis\u001b[39;00m \u001b[39mNone\u001b[39;00m:\n\u001b[1;32m--> 103\u001b[0m     credentials, _ \u001b[39m=\u001b[39m google\u001b[39m.\u001b[39;49mauth\u001b[39m.\u001b[39;49mdefault(\n\u001b[0;32m    104\u001b[0m         \u001b[39m*\u001b[39;49m\u001b[39m*\u001b[39;49mscopes_kwargs, quota_project_id\u001b[39m=\u001b[39;49mquota_project_id\n\u001b[0;32m    105\u001b[0m     )\n\u001b[0;32m    106\u001b[0m     \u001b[39m# Don't apply audience if the credentials file passed from user.\u001b[39;00m\n\u001b[0;32m    107\u001b[0m     \u001b[39mif\u001b[39;00m \u001b[39mhasattr\u001b[39m(credentials, \u001b[39m\"\u001b[39m\u001b[39mwith_gdch_audience\u001b[39m\u001b[39m\"\u001b[39m):\n",
      "File \u001b[1;32mc:\\Users\\eren\\AppData\\Local\\Programs\\Python\\Python311\\Lib\\site-packages\\google\\auth\\_default.py:692\u001b[0m, in \u001b[0;36mdefault\u001b[1;34m(scopes, request, quota_project_id, default_scopes)\u001b[0m\n\u001b[0;32m    684\u001b[0m             _LOGGER\u001b[39m.\u001b[39mwarning(\n\u001b[0;32m    685\u001b[0m                 \u001b[39m\"\u001b[39m\u001b[39mNo project ID could be determined. Consider running \u001b[39m\u001b[39m\"\u001b[39m\n\u001b[0;32m    686\u001b[0m                 \u001b[39m\"\u001b[39m\u001b[39m`gcloud config set project` or setting the \u001b[39m\u001b[39m%s\u001b[39;00m\u001b[39m \u001b[39m\u001b[39m\"\u001b[39m\n\u001b[0;32m    687\u001b[0m                 \u001b[39m\"\u001b[39m\u001b[39menvironment variable\u001b[39m\u001b[39m\"\u001b[39m,\n\u001b[0;32m    688\u001b[0m                 environment_vars\u001b[39m.\u001b[39mPROJECT,\n\u001b[0;32m    689\u001b[0m             )\n\u001b[0;32m    690\u001b[0m         \u001b[39mreturn\u001b[39;00m credentials, effective_project_id\n\u001b[1;32m--> 692\u001b[0m \u001b[39mraise\u001b[39;00m exceptions\u001b[39m.\u001b[39mDefaultCredentialsError(_CLOUD_SDK_MISSING_CREDENTIALS)\n",
      "\u001b[1;31mDefaultCredentialsError\u001b[0m: Your default credentials were not found. To set up Application Default Credentials, see https://cloud.google.com/docs/authentication/external/set-up-adc for more information."
     ]
    }
   ],
   "source": [
    "\n",
    "# Imports the Google Cloud client library\n",
    "from google.cloud import vision\n",
    "\n",
    "\n",
    "\n",
    "def run_quickstart() -> vision.EntityAnnotation:\n",
    "    \"\"\"Provides a quick start example for Cloud Vision.\"\"\"\n",
    "\n",
    "    # Instantiates a client\n",
    "    client = vision.ImageAnnotatorClient()\n",
    "\n",
    "    # The URI of the image file to annotate\n",
    "    file_uri = \"gs://cloud-samples-data/vision/label/wakeupcat.jpg\"\n",
    "\n",
    "    image = vision.Image()\n",
    "    image.source.image_uri = file_uri\n",
    "\n",
    "    # Performs label detection on the image file\n",
    "    response = client.label_detection(image=image)\n",
    "    labels = response.label_annotations\n",
    "\n",
    "    print(\"Labels:\")\n",
    "    for label in labels:\n",
    "        print(label.description)\n",
    "\n",
    "    return labels\n",
    "\n",
    "print(run_quickstart())\n"
   ]
  }
 ],
 "metadata": {
  "kernelspec": {
   "display_name": "Python 3",
   "language": "python",
   "name": "python3"
  },
  "language_info": {
   "codemirror_mode": {
    "name": "ipython",
    "version": 3
   },
   "file_extension": ".py",
   "mimetype": "text/x-python",
   "name": "python",
   "nbconvert_exporter": "python",
   "pygments_lexer": "ipython3",
   "version": "3.11.1"
  },
  "orig_nbformat": 4
 },
 "nbformat": 4,
 "nbformat_minor": 2
}
